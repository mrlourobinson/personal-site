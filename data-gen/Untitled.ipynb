{
 "cells": [
  {
   "cell_type": "code",
   "execution_count": 3,
   "id": "2c1e8e8a-ca4c-4aa6-b2b1-c4498b683d76",
   "metadata": {},
   "outputs": [],
   "source": [
    "import pandas as pd\n",
    "from json import loads, dumps\n",
    "\n",
    "df = pd.read_csv(\"PersonalSite_data - Sheet1.csv\")\n",
    "\n",
    "# Convert the DataFrame to a JSON string\n",
    "json_output = df.to_json(orient='records')\n",
    "\n",
    "# Decode Unicode escape sequences manually using json.loads and json.dumps\n",
    "json_output = dumps(loads(json_output), indent=4, ensure_ascii=False)\n",
    "\n",
    "# Save the JSON to a file\n",
    "with open('../src/routes/assets/projects.json', 'w', encoding='utf-8') as f:\n",
    "    f.write(json_output)"
   ]
  }
 ],
 "metadata": {
  "kernelspec": {
   "display_name": "Python 3 (ipykernel)",
   "language": "python",
   "name": "python3"
  },
  "language_info": {
   "codemirror_mode": {
    "name": "ipython",
    "version": 3
   },
   "file_extension": ".py",
   "mimetype": "text/x-python",
   "name": "python",
   "nbconvert_exporter": "python",
   "pygments_lexer": "ipython3",
   "version": "3.13.3"
  }
 },
 "nbformat": 4,
 "nbformat_minor": 5
}
